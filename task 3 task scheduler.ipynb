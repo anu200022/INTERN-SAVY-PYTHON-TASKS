{
 "cells": [
  {
   "cell_type": "code",
   "execution_count": 1,
   "id": "0c222cc9",
   "metadata": {},
   "outputs": [
    {
     "name": "stdout",
     "output_type": "stream",
     "text": [
      "Requirement already satisfied: schedule in c:\\users\\anubha\\documents\\alaram\\lib\\site-packages (1.2.1)\n"
     ]
    }
   ],
   "source": [
    "!pip install schedule"
   ]
  },
  {
   "cell_type": "code",
   "execution_count": null,
   "id": "8ae8cfdc",
   "metadata": {},
   "outputs": [
    {
     "name": "stdout",
     "output_type": "stream",
     "text": [
      "I'm bored\n",
      "Call your friend Peter\n",
      "I'm bored\n",
      "Call your friend Peter\n",
      "I'm bored\n",
      "Call your friend Peter\n",
      "I'm bored\n",
      "Call your friend Peter\n",
      "I'm bored\n",
      "Call your friend Peter\n",
      "I'm bored\n",
      "Call your friend Peter\n",
      "I'm bored\n",
      "Call your friend Peter\n",
      "I'm bored\n",
      "Call your friend Peter\n",
      "I'm bored\n",
      "Call your friend Peter\n",
      "I'm bored\n",
      "Call your friend Peter\n",
      "I'm bored\n",
      "Call your friend Peter\n",
      "I'm bored\n",
      "Call your friend Peter\n",
      "I'm bored\n",
      "Call your friend Peter\n",
      "I'm bored\n",
      "Call your friend Peter\n",
      "I'm bored\n",
      "Call your friend Peter\n",
      "I'm bored\n",
      "Call your friend Peter\n",
      "I'm bored\n",
      "Call your friend Peter\n",
      "I'm bored\n",
      "Call your friend Peter\n"
     ]
    }
   ],
   "source": [
    "# Import libraries\n",
    "import schedule\n",
    "import time\n",
    "\n",
    "# Setup Task/Functions\n",
    "def bored():\n",
    "    print(\"I'm bored\")\n",
    "\n",
    "def hungry():\n",
    "\tprint(\"Eat something\")\n",
    "\n",
    "def take_a_break():\n",
    "    print(\"Let's take a break\")\n",
    "\n",
    "def sleep():\n",
    "    print(\"Go to sleep\")\n",
    "\n",
    "def good_luck():\n",
    "    print(\"It's monday already?\")\n",
    "\n",
    "def job_with_argument(name):\n",
    "    print(f\"Call your friend {name}\")\n",
    "\n",
    "# Schedule Task/Functions\n",
    "\n",
    "# Every 10 second\n",
    "schedule.every(10).seconds.do(bored)\n",
    "\n",
    "# Every hour\n",
    "schedule.every().hour.do(hungry)\n",
    "\n",
    "# Every 5 to 10 mins\n",
    "schedule.every(5).to(10).minutes.do(take_a_break)\n",
    "\n",
    "# Everyday at 12:00 am or 00:00\n",
    "schedule.every().day.at(\"00:00\").do(sleep)\n",
    "\n",
    "# Every monday\n",
    "schedule.every().monday.do(good_luck)\n",
    "\n",
    "# Send arguments with job\n",
    "schedule.every(10).seconds.do(job_with_argument, name=\"Peter\")\n",
    "\n",
    "while True:\n",
    "    schedule.run_pending()\n",
    "    time.sleep(1)"
   ]
  },
  {
   "cell_type": "code",
   "execution_count": null,
   "id": "63e17896",
   "metadata": {},
   "outputs": [],
   "source": []
  }
 ],
 "metadata": {
  "kernelspec": {
   "display_name": "Python 3",
   "language": "python",
   "name": "python3"
  },
  "language_info": {
   "codemirror_mode": {
    "name": "ipython",
    "version": 3
   },
   "file_extension": ".py",
   "mimetype": "text/x-python",
   "name": "python",
   "nbconvert_exporter": "python",
   "pygments_lexer": "ipython3",
   "version": "3.8.8"
  }
 },
 "nbformat": 4,
 "nbformat_minor": 5
}
