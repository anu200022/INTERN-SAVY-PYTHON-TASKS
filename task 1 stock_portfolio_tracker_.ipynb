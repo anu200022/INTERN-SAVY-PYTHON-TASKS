{
  "nbformat": 4,
  "nbformat_minor": 0,
  "metadata": {
    "colab": {
      "provenance": []
    },
    "kernelspec": {
      "name": "python3",
      "display_name": "Python 3"
    },
    "language_info": {
      "name": "python"
    }
  },
  "cells": [
    {
      "cell_type": "code",
      "execution_count": 11,
      "metadata": {
        "colab": {
          "base_uri": "https://localhost:8080/"
        },
        "id": "5DN-APuJWp-E",
        "outputId": "a68f6f11-51da-4d9b-aa7a-b095ead541b7"
      },
      "outputs": [
        {
          "output_type": "stream",
          "name": "stdout",
          "text": [
            "Requirement already satisfied: pandas in /usr/local/lib/python3.10/dist-packages (1.5.3)\n",
            "Requirement already satisfied: python-dateutil>=2.8.1 in /usr/local/lib/python3.10/dist-packages (from pandas) (2.8.2)\n",
            "Requirement already satisfied: pytz>=2020.1 in /usr/local/lib/python3.10/dist-packages (from pandas) (2023.3.post1)\n",
            "Requirement already satisfied: numpy>=1.21.0 in /usr/local/lib/python3.10/dist-packages (from pandas) (1.23.5)\n",
            "Requirement already satisfied: six>=1.5 in /usr/local/lib/python3.10/dist-packages (from python-dateutil>=2.8.1->pandas) (1.16.0)\n"
          ]
        }
      ],
      "source": [
        "!pip install pandas\n"
      ]
    },
    {
      "cell_type": "code",
      "source": [
        "# Import necessary libraries\n",
        "import pandas as pd\n",
        "import yfinance as yf\n",
        "\n",
        "# Define function to get stock data\n",
        "def get_stock_data(ticker, start_date, end_date):\n",
        "    stock_data = yf.download(ticker, start=start_date, end=end_date)\n",
        "    return stock_data\n",
        "\n",
        "# Define function to calculate portfolio value\n",
        "def calculate_portfolio_value(portfolio, start_date, end_date):\n",
        "    portfolio_value = 0\n",
        "    for stock, shares in portfolio.items():\n",
        "        stock_data = get_stock_data(stock, start_date, end_date)\n",
        "        stock_value = stock_data['Close'].iloc[-1] * shares\n",
        "        portfolio_value += stock_value\n",
        "    return portfolio_value\n",
        "\n",
        "# Define portfolio\n",
        "my_portfolio = {'AAPL': 10, 'GOOG': 5, 'TSLA': 3}\n",
        "\n",
        "# Define start and end dates\n",
        "start_date = '2023-10-13'\n",
        "end_date = '2023-12-15'\n",
        "\n",
        "# Calculate portfolio value\n",
        "portfolio_value = calculate_portfolio_value(my_portfolio, start_date, end_date)\n",
        "\n",
        "# Print portfolio value\n",
        "print(f\"My portfolio value as of {end_date}: ${portfolio_value:.2f}\")\n"
      ],
      "metadata": {
        "colab": {
          "base_uri": "https://localhost:8080/"
        },
        "id": "Q4QqZR8FYwyX",
        "outputId": "cc4e2c5d-274e-4351-f459-94d1e182757c"
      },
      "execution_count": 9,
      "outputs": [
        {
          "output_type": "stream",
          "name": "stdout",
          "text": [
            "[*********************100%%**********************]  1 of 1 completed\n",
            "[*********************100%%**********************]  1 of 1 completed\n",
            "[*********************100%%**********************]  1 of 1 completed\n",
            "My portfolio value as of 2023-12-15: $3285.16\n"
          ]
        }
      ]
    },
    {
      "cell_type": "code",
      "source": [
        "\n",
        "\n",
        "# Define the stock symbols and number of shares for the portfolio\n",
        "portfolio = {\n",
        "    'AAPL': 10,\n",
        "    'TSLA': 5,\n",
        "    'GOOG': 3,\n",
        "    'AMZN': 2\n",
        "}\n",
        "\n",
        "# Create an empty dataframe to store the portfolio data\n",
        "portfolio_df = pd.DataFrame(columns=['Ticker', 'Shares', 'Price', 'Total'])\n",
        "\n",
        "# Loop through the portfolio and retrieve the stock data\n",
        "for ticker, shares in portfolio.items():\n",
        "    stock = yf.Ticker(ticker)\n",
        "    price = stock.history(period='1d')['Close'][0]\n",
        "    total = shares * price\n",
        "    portfolio_df = portfolio_df.append(pd.Series([ticker, shares, price, total], index=portfolio_df.columns), ignore_index=True)\n",
        "\n",
        "# Print the portfolio dataframe\n",
        "print(portfolio_df)\n"
      ],
      "metadata": {
        "colab": {
          "base_uri": "https://localhost:8080/"
        },
        "id": "jgcz3KT6Yw44",
        "outputId": "eb26dd92-9603-403e-c06f-31ec7b77bd3e"
      },
      "execution_count": 10,
      "outputs": [
        {
          "output_type": "stream",
          "name": "stderr",
          "text": [
            "<ipython-input-10-dc855372a187>:17: FutureWarning: The frame.append method is deprecated and will be removed from pandas in a future version. Use pandas.concat instead.\n",
            "  portfolio_df = portfolio_df.append(pd.Series([ticker, shares, price, total], index=portfolio_df.columns), ignore_index=True)\n",
            "<ipython-input-10-dc855372a187>:17: FutureWarning: The frame.append method is deprecated and will be removed from pandas in a future version. Use pandas.concat instead.\n",
            "  portfolio_df = portfolio_df.append(pd.Series([ticker, shares, price, total], index=portfolio_df.columns), ignore_index=True)\n"
          ]
        },
        {
          "output_type": "stream",
          "name": "stdout",
          "text": [
            "  Ticker Shares       Price        Total\n",
            "0   AAPL     10  180.710007  1807.100067\n",
            "1   TSLA      5  258.869995  1294.349976\n",
            "2   GOOG      3  140.289993   420.869980\n",
            "3   AMZN      2  132.330002   264.660004\n"
          ]
        },
        {
          "output_type": "stream",
          "name": "stderr",
          "text": [
            "<ipython-input-10-dc855372a187>:17: FutureWarning: The frame.append method is deprecated and will be removed from pandas in a future version. Use pandas.concat instead.\n",
            "  portfolio_df = portfolio_df.append(pd.Series([ticker, shares, price, total], index=portfolio_df.columns), ignore_index=True)\n",
            "<ipython-input-10-dc855372a187>:17: FutureWarning: The frame.append method is deprecated and will be removed from pandas in a future version. Use pandas.concat instead.\n",
            "  portfolio_df = portfolio_df.append(pd.Series([ticker, shares, price, total], index=portfolio_df.columns), ignore_index=True)\n"
          ]
        }
      ]
    },
    {
      "cell_type": "code",
      "source": [],
      "metadata": {
        "id": "wVRJNMPmYw8U"
      },
      "execution_count": null,
      "outputs": []
    },
    {
      "cell_type": "code",
      "source": [],
      "metadata": {
        "id": "K_5M8HOXYw91"
      },
      "execution_count": null,
      "outputs": []
    },
    {
      "cell_type": "code",
      "source": [],
      "metadata": {
        "id": "YKTjl5b2YxDF"
      },
      "execution_count": null,
      "outputs": []
    }
  ]
}