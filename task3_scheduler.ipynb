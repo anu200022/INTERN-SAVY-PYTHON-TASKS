{
  "nbformat": 4,
  "nbformat_minor": 0,
  "metadata": {
    "colab": {
      "provenance": []
    },
    "kernelspec": {
      "name": "python3",
      "display_name": "Python 3"
    },
    "language_info": {
      "name": "python"
    }
  },
  "cells": [
    {
      "cell_type": "code",
      "execution_count": 1,
      "metadata": {
        "colab": {
          "base_uri": "https://localhost:8080/"
        },
        "id": "B1GwNXjHVtzh",
        "outputId": "d2e61d60-4e90-4923-a680-12e2a6a20191"
      },
      "outputs": [
        {
          "output_type": "stream",
          "name": "stdout",
          "text": [
            "\n",
            "1. Add Task\n",
            "2. View Tasks\n",
            "3. Exit\n",
            "Enter your choice: 1\n",
            "Enter task name: write notes\n",
            "Enter due date (YYYY-MM-DD): 2023-10-13\n",
            "Task added successfully.\n",
            "\n",
            "1. Add Task\n",
            "2. View Tasks\n",
            "3. Exit\n",
            "Enter your choice: study for exam\n",
            "Invalid choice. Please try again.\n",
            "\n",
            "1. Add Task\n",
            "2. View Tasks\n",
            "3. Exit\n",
            "Enter your choice: 1\n",
            "Enter task name: study for gate\n",
            "Enter due date (YYYY-MM-DD): 2023-10-15\n",
            "Task added successfully.\n",
            "\n",
            "1. Add Task\n",
            "2. View Tasks\n",
            "3. Exit\n",
            "Enter your choice: 2\n",
            "Scheduled Tasks:\n",
            "1. write notes - Due: 2023-10-13\n",
            "2. study for gate - Due: 2023-10-15\n",
            "\n",
            "1. Add Task\n",
            "2. View Tasks\n",
            "3. Exit\n",
            "Enter your choice: 3\n",
            "Exiting Task Scheduler. Goodbye!\n"
          ]
        }
      ],
      "source": [
        "import time\n",
        "\n",
        "class Task:\n",
        "    def __init__(self, name, due_date):\n",
        "        self.name = name\n",
        "        self.due_date = due_date\n",
        "\n",
        "def add_task(tasks, name, due_date):\n",
        "    tasks.append(Task(name, due_date))\n",
        "    print(\"Task added successfully.\")\n",
        "\n",
        "def view_tasks(tasks):\n",
        "    if not tasks:\n",
        "        print(\"No tasks scheduled.\")\n",
        "    else:\n",
        "        print(\"Scheduled Tasks:\")\n",
        "        for index, task in enumerate(tasks, start=1):\n",
        "            print(f\"{index}. {task.name} - Due: {task.due_date}\")\n",
        "\n",
        "def main():\n",
        "    tasks = []\n",
        "\n",
        "    while True:\n",
        "        print(\"\\n1. Add Task\\n2. View Tasks\\n3. Exit\")\n",
        "        choice = input(\"Enter your choice: \")\n",
        "\n",
        "        if choice == '1':\n",
        "            name = input(\"Enter task name: \")\n",
        "            due_date = input(\"Enter due date (YYYY-MM-DD): \")\n",
        "            add_task(tasks, name, due_date)\n",
        "\n",
        "        elif choice == '2':\n",
        "            view_tasks(tasks)\n",
        "\n",
        "        elif choice == '3':\n",
        "            print(\"Exiting Task Scheduler. Goodbye!\")\n",
        "            break\n",
        "\n",
        "        else:\n",
        "            print(\"Invalid choice. Please try again.\")\n",
        "\n",
        "if __name__ == \"__main__\":\n",
        "    main()\n"
      ]
    }
  ]
}