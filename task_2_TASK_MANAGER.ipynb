{
  "cells": [
    {
      "cell_type": "code",
      "execution_count": 2,
      "metadata": {
        "colab": {
          "base_uri": "https://localhost:8080/"
        },
        "id": "6c83afab",
        "outputId": "e150027a-4e1a-4c7a-c6d2-4b04daddc3a3"
      },
      "outputs": [
        {
          "name": "stdout",
          "output_type": "stream",
          "text": [
            "\n",
            "1. Add Task\n",
            "2. View Tasks\n",
            "3. Mark Task as Completed\n",
            "4. Exit\n",
            "Enter your choice: 1\n",
            "Enter task name: make projects on python\n",
            "\n",
            "1. Add Task\n",
            "2. View Tasks\n",
            "3. Mark Task as Completed\n",
            "4. Exit\n",
            "Enter your choice: 2\n",
            "1. [ ] make projects on python\n",
            "\n",
            "1. Add Task\n",
            "2. View Tasks\n",
            "3. Mark Task as Completed\n",
            "4. Exit\n",
            "Enter your choice: 1\n",
            "Enter task name: make cakes\n",
            "\n",
            "1. Add Task\n",
            "2. View Tasks\n",
            "3. Mark Task as Completed\n",
            "4. Exit\n",
            "Enter your choice: 2\n",
            "1. [ ] make projects on python\n",
            "2. [ ] make cakes\n",
            "\n",
            "1. Add Task\n",
            "2. View Tasks\n",
            "3. Mark Task as Completed\n",
            "4. Exit\n",
            "Enter your choice: 3\n",
            "1. [ ] make projects on python\n",
            "2. [ ] make cakes\n",
            "Enter the task number to mark as completed: 2\n",
            "Task 'make cakes' marked as completed.\n",
            "\n",
            "1. Add Task\n",
            "2. View Tasks\n",
            "3. Mark Task as Completed\n",
            "4. Exit\n",
            "Enter your choice: 4\n"
          ]
        }
      ],
      "source": [
        "class TaskManager:\n",
        "    def __init__(self):\n",
        "        self.tasks = []\n",
        "\n",
        "    def add_task(self, task):\n",
        "        self.tasks.append({\"task_name\": task, \"completed\": False})\n",
        "\n",
        "    def view_tasks(self):\n",
        "        if self.tasks:\n",
        "            for index, task in enumerate(self.tasks):\n",
        "                print(f\"{index + 1}. [{ 'x' if task['completed'] else ' ' }] {task['task_name']}\")\n",
        "        else:\n",
        "            print(\"No tasks added yet.\")\n",
        "\n",
        "    def mark_completed(self, task_number):\n",
        "        if 0 < task_number <= len(self.tasks):\n",
        "            self.tasks[task_number - 1][\"completed\"] = True\n",
        "            print(f\"Task '{self.tasks[task_number - 1]['task_name']}' marked as completed.\")\n",
        "        else:\n",
        "            print(\"Invalid task number.\")\n",
        "\n",
        "# Example usage\n",
        "if __name__ == '__main__':\n",
        "    task_manager = TaskManager()\n",
        "    while True:\n",
        "        print(\"\\n1. Add Task\\n2. View Tasks\\n3. Mark Task as Completed\\n4. Exit\")\n",
        "        choice = input(\"Enter your choice: \")\n",
        "\n",
        "        if choice == '1':\n",
        "            task = input(\"Enter task name: \")\n",
        "            task_manager.add_task(task)\n",
        "        elif choice == '2':\n",
        "            task_manager.view_tasks()\n",
        "        elif choice == '3':\n",
        "            task_manager.view_tasks()\n",
        "            task_number = int(input(\"Enter the task number to mark as completed: \"))\n",
        "            task_manager.mark_completed(task_number)\n",
        "        elif choice == '4':\n",
        "            break\n",
        "        else:\n",
        "            print(\"Invalid choice. Please try again.\")\n"
      ],
      "id": "6c83afab"
    }
  ],
  "metadata": {
    "colab": {
      "provenance": []
    },
    "kernelspec": {
      "display_name": "Python 3",
      "language": "python",
      "name": "python3"
    },
    "language_info": {
      "codemirror_mode": {
        "name": "ipython",
        "version": 3
      },
      "file_extension": ".py",
      "mimetype": "text/x-python",
      "name": "python",
      "nbconvert_exporter": "python",
      "pygments_lexer": "ipython3",
      "version": "3.8.8"
    }
  },
  "nbformat": 4,
  "nbformat_minor": 5
}